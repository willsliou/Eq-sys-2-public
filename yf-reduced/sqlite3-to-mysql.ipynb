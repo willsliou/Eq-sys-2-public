{
 "cells": [
  {
   "cell_type": "code",
   "execution_count": 8,
   "metadata": {},
   "outputs": [
    {
     "ename": "OperationalError",
     "evalue": "no such table: CARROTSP500_255030",
     "output_type": "error",
     "traceback": [
      "\u001b[1;31m---------------------------------------------------------------------------\u001b[0m",
      "\u001b[1;31mOperationalError\u001b[0m                          Traceback (most recent call last)",
      "Cell \u001b[1;32mIn[8], line 51\u001b[0m\n\u001b[0;32m     48\u001b[0m sqlite_cursor \u001b[39m=\u001b[39m sqlite_conn\u001b[39m.\u001b[39mcursor()\n\u001b[0;32m     50\u001b[0m \u001b[39m# Convert SQLite3 database to MySQL\u001b[39;00m\n\u001b[1;32m---> 51\u001b[0m convert(sqlite_cursor, mysql_conn)\n\u001b[0;32m     53\u001b[0m \u001b[39m# Close connections\u001b[39;00m\n\u001b[0;32m     54\u001b[0m sqlite_conn\u001b[39m.\u001b[39mclose()\n",
      "Cell \u001b[1;32mIn[8], line 16\u001b[0m, in \u001b[0;36mconvert\u001b[1;34m(sqlite_cursor, mysql_conn)\u001b[0m\n\u001b[0;32m     13\u001b[0m \u001b[39m# Replace any occurrence of ^ with a unique string\u001b[39;00m\n\u001b[0;32m     14\u001b[0m table_name \u001b[39m=\u001b[39m table_name\u001b[39m.\u001b[39mreplace(\u001b[39m'\u001b[39m\u001b[39m^\u001b[39m\u001b[39m'\u001b[39m, \u001b[39m'\u001b[39m\u001b[39mCARROT\u001b[39m\u001b[39m'\u001b[39m)\n\u001b[1;32m---> 16\u001b[0m sqlite_cursor\u001b[39m.\u001b[39;49mexecute(\u001b[39mf\u001b[39;49m\u001b[39m\"\u001b[39;49m\u001b[39mSELECT * FROM `\u001b[39;49m\u001b[39m{\u001b[39;49;00mtable_name\u001b[39m}\u001b[39;49;00m\u001b[39m`\u001b[39;49m\u001b[39m\"\u001b[39;49m)\n\u001b[0;32m     17\u001b[0m rows \u001b[39m=\u001b[39m sqlite_cursor\u001b[39m.\u001b[39mfetchall()\n\u001b[0;32m     19\u001b[0m \u001b[39m# Get the column names from the SQLite3 cursor\u001b[39;00m\n",
      "\u001b[1;31mOperationalError\u001b[0m: no such table: CARROTSP500_255030"
     ]
    }
   ],
   "source": [
    "import sqlite3\n",
    "import mysql.connector\n",
    "\n",
    "# Define a function to convert SQLite3 to MySQL\n",
    "def convert(sqlite_cursor, mysql_conn):\n",
    "    # Get the list of tables in the SQLite3 database\n",
    "    sqlite_cursor.execute(\"SELECT name FROM sqlite_master WHERE type='table'\")\n",
    "    tables = sqlite_cursor.fetchall()\n",
    "\n",
    "    # Iterate over each table and create it in the MySQL database\n",
    "    for table in tables:\n",
    "        table_name = table[0]\n",
    "        # Replace any occurrence of ^ with a unique string\n",
    "        table_name = table_name.replace('^', 'CARROT_')\n",
    "\n",
    "        sqlite_cursor.execute(f\"SELECT * FROM `{table_name}`\")\n",
    "        rows = sqlite_cursor.fetchall()\n",
    "\n",
    "        # Get the column names from the SQLite3 cursor\n",
    "        col_names = [description[0] for description in sqlite_cursor.description]\n",
    "\n",
    "        # Create the table in the MySQL database\n",
    "        mysql_cursor = mysql_conn.cursor()\n",
    "        create_table_query = f\"CREATE TABLE {table_name} ({', '.join(col_names)})\"\n",
    "        mysql_cursor.execute(create_table_query)\n",
    "\n",
    "        # Insert the data into the MySQL table\n",
    "        insert_query = f\"INSERT INTO {table_name} ({', '.join(col_names)}) VALUES ({', '.join(['%s'] * len(col_names))})\"\n",
    "        mysql_cursor.executemany(insert_query, rows)\n",
    "        mysql_conn.commit()\n",
    "\n",
    "    print(\"Conversion complete.\")\n",
    "\n",
    "\n",
    "# Open SQLite3 database file\n",
    "path = 'C:/Users/hello/Desktop/yf-all-indices-1m-reduced-duplicate.db'\n",
    "sqlite_conn = sqlite3.connect(path)\n",
    "\n",
    "# Create MySQL connection\n",
    "mysql_conn = mysql.connector.connect(\n",
    "    host=\"localhost\",\n",
    "    user=\"hello\",\n",
    "    password=\"9559\",\n",
    "    database=\"yf_equities_1m\"\n",
    ")\n",
    "\n",
    "# Create SQLite3 cursor\n",
    "sqlite_cursor = sqlite_conn.cursor()\n",
    "\n",
    "# Convert SQLite3 database to MySQL\n",
    "convert(sqlite_cursor, mysql_conn)\n",
    "\n",
    "# Close connections\n",
    "sqlite_conn.close()\n",
    "mysql_conn.close()\n"
   ]
  },
  {
   "cell_type": "code",
   "execution_count": null,
   "metadata": {},
   "outputs": [],
   "source": []
  }
 ],
 "metadata": {
  "kernelspec": {
   "display_name": "Python 3",
   "language": "python",
   "name": "python3"
  },
  "language_info": {
   "codemirror_mode": {
    "name": "ipython",
    "version": 3
   },
   "file_extension": ".py",
   "mimetype": "text/x-python",
   "name": "python",
   "nbconvert_exporter": "python",
   "pygments_lexer": "ipython3",
   "version": "3.11.2"
  },
  "orig_nbformat": 4
 },
 "nbformat": 4,
 "nbformat_minor": 2
}
