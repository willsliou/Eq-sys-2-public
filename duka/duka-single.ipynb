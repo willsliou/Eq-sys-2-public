{
 "cells": [
  {
   "cell_type": "code",
   "execution_count": null,
   "id": "dc148d97",
   "metadata": {},
   "outputs": [
    {
     "name": "stdout",
     "output_type": "stream",
     "text": [
      "C:\\Users\\hello\\Documents\\GitHub\\eq-sys-2\\duka\\all_duka_id.txt\n",
      "executing \"C:\\Program Files\\nodejs\\npx.cmd\" \"C:\\Users\\hello\\node_modules\\.bin\\dukascopy-node.cmd\" -i audcad -from 1980-06-01 -to 2023-04-09 -t m1 -bs 15 -bp 2000 -dir \"C:\\Users\\hello\\Documents\\GitHub\\eq-sys-2\\duka\\dukascope-downloads\"\n"
     ]
    }
   ],
   "source": [
    "import os\n",
    "import time\n",
    "import pandas as pd\n",
    "import subprocess\n",
    "\n",
    "npx_path = r'\"C:\\Program Files\\nodejs\\npx.cmd\"'\n",
    "node_path = r\"C:\\Program Files\\nodejs\"\n",
    "npx_path_duka = r'\"C:\\Users\\hello\\node_modules\\.bin\\dukascopy-node.cmd\"'\n",
    "symbol_path = r\"C:\\Users\\hello\\Documents\\GitHub\\eq-sys-2\\duka\\all_duka_id.txt\"\n",
    "download_location = r'\"C:\\Users\\hello\\Documents\\GitHub\\eq-sys-2\\duka\\dukascope-downloads\"'\n",
    "\n",
    "symbols = []\n",
    "# Define a list of commands to run\n",
    "print(symbol_path)\n",
    "with open(symbol_path, 'r') as file:\n",
    "    for s in file:\n",
    "        symbols.append(s.strip())\n",
    "    \n",
    "# symb\n",
    "\n",
    "for symbol in symbols:\n",
    "    cmd = f\"{npx_path} {npx_path_duka} -i {symbol} -from 1980-06-01 -to 2023-04-09 -t m1 -bs 15 -bp 5000 -dir {download_location}\"\n",
    "    print(f'executing {npx_path} {npx_path_duka} -i {symbol} -from 1980-06-01 -to 2023-04-09 -t m1 -bs 15 -bp 5000 -dir {download_location}'\n",
    ")\n",
    "    subprocess.run(cmd, shell=True, cwd=node_path)"
   ]
  },
  {
   "cell_type": "code",
   "execution_count": null,
   "id": "64bfe530",
   "metadata": {},
   "outputs": [],
   "source": [
    "npx dukascopy-node -i audcad -from 1980-06-01 -to 2023-04-09 -t m1 -bs 15 -bp 10\n",
    "\n"
   ]
  },
  {
   "cell_type": "code",
   "execution_count": null,
   "id": "a87ba5af",
   "metadata": {},
   "outputs": [],
   "source": []
  }
 ],
 "metadata": {
  "kernelspec": {
   "display_name": "Python 3 (ipykernel)",
   "language": "python",
   "name": "python3"
  },
  "language_info": {
   "codemirror_mode": {
    "name": "ipython",
    "version": 3
   },
   "file_extension": ".py",
   "mimetype": "text/x-python",
   "name": "python",
   "nbconvert_exporter": "python",
   "pygments_lexer": "ipython3",
   "version": "3.11.3"
  }
 },
 "nbformat": 4,
 "nbformat_minor": 5
}
